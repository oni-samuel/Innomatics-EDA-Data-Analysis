{
 "cells": [
  {
   "cell_type": "markdown",
   "id": "4070c642",
   "metadata": {},
   "source": [
    "# Analysis on top 500 companies from Ambition Box\n"
   ]
  },
  {
   "cell_type": "code",
   "execution_count": 1,
   "id": "d640fbfd",
   "metadata": {},
   "outputs": [],
   "source": [
    "url = \"https://www.ambitionbox.com/list-of-companies?campaign=desktop_nav\""
   ]
  },
  {
   "cell_type": "code",
   "execution_count": 603,
   "id": "d0b95dc3",
   "metadata": {},
   "outputs": [],
   "source": [
    "import requests\n",
    "from bs4 import BeautifulSoup\n",
    "import re\n",
    "import numpy as np\n",
    "import pandas as pd\n",
    "import matplotlib.pyplot as plt\n",
    "import seaborn as sns"
   ]
  },
  {
   "cell_type": "markdown",
   "id": "e39fd5da",
   "metadata": {},
   "source": [
    "Web scraping"
   ]
  },
  {
   "cell_type": "code",
   "execution_count": 3,
   "id": "b0854bb3",
   "metadata": {},
   "outputs": [
    {
     "data": {
      "text/plain": [
       "<Response [403]>"
      ]
     },
     "execution_count": 3,
     "metadata": {},
     "output_type": "execute_result"
    }
   ],
   "source": [
    "requests.get(url)"
   ]
  },
  {
   "cell_type": "code",
   "execution_count": 7,
   "id": "fea46423",
   "metadata": {},
   "outputs": [],
   "source": [
    "headers={ \"User-Agent\": \"nicrosoft Edge/112.0.1722.39\", \n",
    "\n",
    "        \"Accept-Language\" : \"en-US,en;q=0.5\",\n",
    "\n",
    "        \"Accept-Encoding\" : \"gzip, deflate, br\",\n",
    "\n",
    "        \"Connection\": \"keep-alive\",\n",
    "\n",
    "        }"
   ]
  },
  {
   "cell_type": "code",
   "execution_count": 5,
   "id": "b94f3965",
   "metadata": {},
   "outputs": [],
   "source": [
    "#request_header = {'Content-Type': 'text/html; charset=UTF-8','User-Agent': 'Mozilla/5.0 (Windows NT 10.0; Win64; x64) AppleWebKit/537.36 (KHTML, like Gecko) Chrome/130.0.0.0 Safari/537.36','Accept-Encoding': 'gzip, deflate, br'}"
   ]
  },
  {
   "cell_type": "code",
   "execution_count": 8,
   "id": "dcd31584",
   "metadata": {},
   "outputs": [],
   "source": [
    "page  = requests.get(url,headers = headers)"
   ]
  },
  {
   "cell_type": "code",
   "execution_count": 9,
   "id": "5b9e9474",
   "metadata": {},
   "outputs": [
    {
     "data": {
      "text/plain": [
       "<Response [200]>"
      ]
     },
     "execution_count": 9,
     "metadata": {},
     "output_type": "execute_result"
    }
   ],
   "source": [
    "page"
   ]
  },
  {
   "cell_type": "code",
   "execution_count": 55,
   "id": "53316ecb",
   "metadata": {},
   "outputs": [],
   "source": [
    "soup = BeautifulSoup(page.text)"
   ]
  },
  {
   "cell_type": "code",
   "execution_count": 558,
   "id": "b8b1bffc",
   "metadata": {},
   "outputs": [],
   "source": [
    "Rating = []\n",
    "no_Reviews = []\n",
    "salary = []\n",
    "company = []\n",
    "ages = []\n",
    "Location = []\n",
    "Industry = []\n",
    "Jobs = []\n",
    "Rated_for = []\n",
    "Critically_rated = []\n",
    "\n",
    "for i in range(1,21):\n",
    "    url = f\"https://www.ambitionbox.com/list-of-companies?campaign=desktop_nav&page={i}\"\n",
    "    #print(url)\n",
    "    page  = requests.get(url,headers = headers)\n",
    "    soup = BeautifulSoup(page.text)\n",
    "\n",
    "    for i in soup.find_all(\"div\",class_=\"companyCardWrapper\"):\n",
    "\n",
    "        #rating\n",
    "        rating = i.find(\"div\",class_=\"companyCardWrapper__companyRatingWrapper\")\n",
    "        if rating:\n",
    "            rating = rating.text\n",
    "            regex = re.findall(r\"\\d+\\.\\d+\", rating)\n",
    "            if regex:\n",
    "                Rating.append(regex[0])\n",
    "            else:\n",
    "                Rating.append(np.nan)\n",
    "    \n",
    "        #rating_reviews\n",
    "        rating_reviews = i.find(\"div\",class_=\"companyCardWrapper__tertiaryInformation\")\n",
    "\n",
    "        if rating_reviews:\n",
    "            no_reviews = re.findall(\"(.+)k\\sReviews\",rating_reviews.text)\n",
    "            if no_reviews:\n",
    "                no_Reviews.append(no_reviews[0])\n",
    "            else:\n",
    "                no_Reviews.append(np.nan)\n",
    "            \n",
    "        #rating_salaries  \n",
    "        no_salaries = re.findall(r\"\\d+(?:\\.\\d+)?[Lk](?=\\sSalaries)\", rating_reviews.text)\n",
    "        if no_salaries:\n",
    "            salary.append(no_salaries[0])\n",
    "        else:\n",
    "            salary.append(np.nan)\n",
    "        \n",
    "           \n",
    "        #company name\n",
    "        company_name = i.find(\"div\",class_=\"companyCardWrapper__companyPrimaryDetailsTopSection\")\n",
    "        if company_name:\n",
    "            company_name = re.findall(\"\\w+\",company_name.text)\n",
    "            company_name = \" \".join(word for word in company_name if word != \"Follow\")\n",
    "            if company_name:\n",
    "                company.append(company_name)\n",
    "            else:\n",
    "                company.append(np.nan)\n",
    "   \n",
    "        #age\n",
    "        age = i.find(\"span\", class_=\"companyCardWrapper__interLinking\")\n",
    "        if age:\n",
    "            extracted_ages = re.findall(r\"\\b(\\d+)\\s+years\\s+old\\b\", age.text)\n",
    "            if extracted_ages:\n",
    "                ages.append(extracted_ages[0])\n",
    "            else:\n",
    "                ages.append(np.nan)\n",
    "        else:\n",
    "            ages.append(np.nan)\n",
    "        \n",
    "        #location  \n",
    "        location = i.find(\"span\", class_=\"companyCardWrapper__interLinking\")\n",
    "        if location:\n",
    "            extracted_location = re.findall(r\"(\\b[A-Za-z]+(?:[\\.\\,]?[A-Za-z]+)*\\b)(?=\\s\\+\\d+\\smore)\",location.text)\n",
    "\n",
    "            if extracted_location:\n",
    "                Location.append(extracted_location[0])\n",
    "            else:\n",
    "                Location.append(np.nan)\n",
    "        else:\n",
    "            Location.append(np.nan)\n",
    "        \n",
    "        #industry \n",
    "        industry = i.find(\"span\", class_=\"companyCardWrapper__interLinking\")\n",
    "\n",
    "        if industry:\n",
    "            extracted_industry = re.findall(r\"^([A-Za-z&\\s]+)(?=\\s\\|)\", industry.text)\n",
    "\n",
    "            extracted_industry = [industry.strip() for industry in extracted_industry]\n",
    "\n",
    "            if extracted_industry:\n",
    "                Industry.append(extracted_industry[0])  \n",
    "            else:\n",
    "                Industry.append(np.nan)\n",
    "        else:\n",
    "            Industry.append(np.nan)\n",
    "        \n",
    "        #highly rated for \n",
    "        rated_for = i.find(\"span\", class_=\"companyCardWrapper__ratingValues\")\n",
    "\n",
    "        if rated_for:\n",
    "            rated_for = rated_for.text.strip()\n",
    "\n",
    "            rated_for = rated_for.split(',' or '/')\n",
    "\n",
    "        if rated_for:\n",
    "            Rated_for.append(rated_for[0])  \n",
    "        else:\n",
    "            Rated_for.append(np.nan) \n",
    "        \n",
    "        #critically rated for\n",
    "        critically_rated = i.find(\"div\", class_=\"companyCardWrapper__ratingComparisonWrapper\")\n",
    "\n",
    "        if critically_rated:\n",
    "            critically_rated = re.findall(r\"Critically Rated For (.+?)\\s*(?=\\n|$|,|$)\",critically_rated.text)\n",
    "\n",
    "            if critically_rated:\n",
    "\n",
    "                Critically_rated.append(critically_rated[0])\n",
    "            else:\n",
    "                Critically_rated.append(np.nan)\n",
    "        else:\n",
    "            Critically_rated.append(np.nan)\n"
   ]
  },
  {
   "cell_type": "code",
   "execution_count": 559,
   "id": "1007268c",
   "metadata": {},
   "outputs": [],
   "source": [
    "d = {\"Company\":company,\"Industry\":Industry,\"Age\":ages, \"Rating\":Rating,\"Reviews\":no_Reviews, \"Salary\":salary, \"Location\":Location,\"Highly Rated\":Rated_for,\"Critically Rated\":Critically_rated}\n",
    "\n"
   ]
  },
  {
   "cell_type": "code",
   "execution_count": 561,
   "id": "9d96c179",
   "metadata": {},
   "outputs": [],
   "source": [
    "data = pd.DataFrame(d)"
   ]
  },
  {
   "cell_type": "code",
   "execution_count": 562,
   "id": "633bcebe",
   "metadata": {},
   "outputs": [
    {
     "data": {
      "text/html": [
       "<div>\n",
       "<style scoped>\n",
       "    .dataframe tbody tr th:only-of-type {\n",
       "        vertical-align: middle;\n",
       "    }\n",
       "\n",
       "    .dataframe tbody tr th {\n",
       "        vertical-align: top;\n",
       "    }\n",
       "\n",
       "    .dataframe thead th {\n",
       "        text-align: right;\n",
       "    }\n",
       "</style>\n",
       "<table border=\"1\" class=\"dataframe\">\n",
       "  <thead>\n",
       "    <tr style=\"text-align: right;\">\n",
       "      <th></th>\n",
       "      <th>Company</th>\n",
       "      <th>Industry</th>\n",
       "      <th>Age</th>\n",
       "      <th>Rating</th>\n",
       "      <th>Reviews</th>\n",
       "      <th>Salary</th>\n",
       "      <th>Location</th>\n",
       "      <th>Highly Rated</th>\n",
       "      <th>Critically Rated</th>\n",
       "    </tr>\n",
       "  </thead>\n",
       "  <tbody>\n",
       "    <tr>\n",
       "      <th>0</th>\n",
       "      <td>TCS</td>\n",
       "      <td>IT Services &amp; Consulting</td>\n",
       "      <td>56</td>\n",
       "      <td>3.7</td>\n",
       "      <td>82.9</td>\n",
       "      <td>9L</td>\n",
       "      <td>Mumbai</td>\n",
       "      <td>Job Security</td>\n",
       "      <td>Promotions / Appraisal</td>\n",
       "    </tr>\n",
       "    <tr>\n",
       "      <th>1</th>\n",
       "      <td>Accenture</td>\n",
       "      <td>IT Services &amp; Consulting</td>\n",
       "      <td>35</td>\n",
       "      <td>3.9</td>\n",
       "      <td>51.7</td>\n",
       "      <td>6L</td>\n",
       "      <td>Dublin</td>\n",
       "      <td>Company Culture</td>\n",
       "      <td>Promotions / Appraisal</td>\n",
       "    </tr>\n",
       "    <tr>\n",
       "      <th>2</th>\n",
       "      <td>Cognizant</td>\n",
       "      <td>IT Services &amp; Consulting</td>\n",
       "      <td>30</td>\n",
       "      <td>3.8</td>\n",
       "      <td>46.5</td>\n",
       "      <td>5.9L</td>\n",
       "      <td>NaN</td>\n",
       "      <td>Promotions / Appraisal</td>\n",
       "      <td>Promotions / Appraisal</td>\n",
       "    </tr>\n",
       "    <tr>\n",
       "      <th>3</th>\n",
       "      <td>Wipro</td>\n",
       "      <td>IT Services &amp; Consulting</td>\n",
       "      <td>79</td>\n",
       "      <td>3.7</td>\n",
       "      <td>46.4</td>\n",
       "      <td>4.5L</td>\n",
       "      <td>Bengaluru</td>\n",
       "      <td>Job Security</td>\n",
       "      <td>Promotions / Appraisal</td>\n",
       "    </tr>\n",
       "    <tr>\n",
       "      <th>4</th>\n",
       "      <td>Capgemini</td>\n",
       "      <td>IT Services &amp; Consulting</td>\n",
       "      <td>57</td>\n",
       "      <td>3.8</td>\n",
       "      <td>38.3</td>\n",
       "      <td>4.4L</td>\n",
       "      <td>Paris</td>\n",
       "      <td>Job Security</td>\n",
       "      <td>Promotions / Appraisal</td>\n",
       "    </tr>\n",
       "    <tr>\n",
       "      <th>...</th>\n",
       "      <td>...</td>\n",
       "      <td>...</td>\n",
       "      <td>...</td>\n",
       "      <td>...</td>\n",
       "      <td>...</td>\n",
       "      <td>...</td>\n",
       "      <td>...</td>\n",
       "      <td>...</td>\n",
       "      <td>...</td>\n",
       "    </tr>\n",
       "    <tr>\n",
       "      <th>395</th>\n",
       "      <td>Sobha</td>\n",
       "      <td>Real Estate</td>\n",
       "      <td>29</td>\n",
       "      <td>3.9</td>\n",
       "      <td>1.7</td>\n",
       "      <td>7.9k</td>\n",
       "      <td>Bengaluru</td>\n",
       "      <td>Job Security</td>\n",
       "      <td>Promotions / Appraisal</td>\n",
       "    </tr>\n",
       "    <tr>\n",
       "      <th>396</th>\n",
       "      <td>Whirlpool</td>\n",
       "      <td>Consumer Electronics &amp; Appliances</td>\n",
       "      <td>113</td>\n",
       "      <td>4.1</td>\n",
       "      <td>1.7</td>\n",
       "      <td>7.7k</td>\n",
       "      <td>Michigan</td>\n",
       "      <td>Work Life Balance</td>\n",
       "      <td>Promotions / Appraisal</td>\n",
       "    </tr>\n",
       "    <tr>\n",
       "      <th>397</th>\n",
       "      <td>RMSI</td>\n",
       "      <td>IT Services &amp; Consulting</td>\n",
       "      <td>32</td>\n",
       "      <td>3.6</td>\n",
       "      <td>1.7</td>\n",
       "      <td>7.8k</td>\n",
       "      <td>Noida</td>\n",
       "      <td>Promotions / Appraisal</td>\n",
       "      <td>Promotions / Appraisal</td>\n",
       "    </tr>\n",
       "    <tr>\n",
       "      <th>398</th>\n",
       "      <td>IntouchCX</td>\n",
       "      <td>BPO</td>\n",
       "      <td>23</td>\n",
       "      <td>3.0</td>\n",
       "      <td>1.7</td>\n",
       "      <td>7.8k</td>\n",
       "      <td>Winnipeg</td>\n",
       "      <td>Promotions / Appraisal</td>\n",
       "      <td>Promotions / Appraisal</td>\n",
       "    </tr>\n",
       "    <tr>\n",
       "      <th>399</th>\n",
       "      <td>Renault Nissan</td>\n",
       "      <td>NaN</td>\n",
       "      <td>17</td>\n",
       "      <td>4.2</td>\n",
       "      <td>1.7</td>\n",
       "      <td>7.6k</td>\n",
       "      <td>Chennai</td>\n",
       "      <td>Job Security</td>\n",
       "      <td>Promotions / Appraisal</td>\n",
       "    </tr>\n",
       "  </tbody>\n",
       "</table>\n",
       "<p>400 rows × 9 columns</p>\n",
       "</div>"
      ],
      "text/plain": [
       "            Company                           Industry  Age Rating Reviews  \\\n",
       "0               TCS           IT Services & Consulting   56    3.7    82.9   \n",
       "1         Accenture           IT Services & Consulting   35    3.9    51.7   \n",
       "2         Cognizant           IT Services & Consulting   30    3.8    46.5   \n",
       "3             Wipro           IT Services & Consulting   79    3.7    46.4   \n",
       "4         Capgemini           IT Services & Consulting   57    3.8    38.3   \n",
       "..              ...                                ...  ...    ...     ...   \n",
       "395           Sobha                        Real Estate   29    3.9     1.7   \n",
       "396       Whirlpool  Consumer Electronics & Appliances  113    4.1     1.7   \n",
       "397            RMSI           IT Services & Consulting   32    3.6     1.7   \n",
       "398       IntouchCX                                BPO   23    3.0     1.7   \n",
       "399  Renault Nissan                                NaN   17    4.2     1.7   \n",
       "\n",
       "    Salary   Location            Highly Rated        Critically Rated  \n",
       "0       9L     Mumbai            Job Security  Promotions / Appraisal  \n",
       "1       6L     Dublin         Company Culture  Promotions / Appraisal  \n",
       "2     5.9L        NaN  Promotions / Appraisal  Promotions / Appraisal  \n",
       "3     4.5L  Bengaluru            Job Security  Promotions / Appraisal  \n",
       "4     4.4L      Paris            Job Security  Promotions / Appraisal  \n",
       "..     ...        ...                     ...                     ...  \n",
       "395   7.9k  Bengaluru            Job Security  Promotions / Appraisal  \n",
       "396   7.7k   Michigan       Work Life Balance  Promotions / Appraisal  \n",
       "397   7.8k      Noida  Promotions / Appraisal  Promotions / Appraisal  \n",
       "398   7.8k   Winnipeg  Promotions / Appraisal  Promotions / Appraisal  \n",
       "399   7.6k    Chennai            Job Security  Promotions / Appraisal  \n",
       "\n",
       "[400 rows x 9 columns]"
      ]
     },
     "execution_count": 562,
     "metadata": {},
     "output_type": "execute_result"
    }
   ],
   "source": [
    "data"
   ]
  },
  {
   "cell_type": "code",
   "execution_count": 563,
   "id": "9f6bcbcf",
   "metadata": {},
   "outputs": [],
   "source": [
    "file_path = r\"C:\\Users\\HP\\Downloads\\New fold\\output.csv\"\n",
    "\n",
    "data.to_csv(file_path, index=False)\n"
   ]
  },
  {
   "cell_type": "code",
   "execution_count": 564,
   "id": "70a90305",
   "metadata": {},
   "outputs": [],
   "source": [
    "#reading CSV into dataframe\n",
    "\n",
    "data1= pd.read_csv(r\"C:\\Users\\HP\\Downloads\\New fold\\output.csv\")"
   ]
  },
  {
   "cell_type": "code",
   "execution_count": 590,
   "id": "fd62f807",
   "metadata": {},
   "outputs": [
    {
     "data": {
      "text/html": [
       "<div>\n",
       "<style scoped>\n",
       "    .dataframe tbody tr th:only-of-type {\n",
       "        vertical-align: middle;\n",
       "    }\n",
       "\n",
       "    .dataframe tbody tr th {\n",
       "        vertical-align: top;\n",
       "    }\n",
       "\n",
       "    .dataframe thead th {\n",
       "        text-align: right;\n",
       "    }\n",
       "</style>\n",
       "<table border=\"1\" class=\"dataframe\">\n",
       "  <thead>\n",
       "    <tr style=\"text-align: right;\">\n",
       "      <th></th>\n",
       "      <th>Company</th>\n",
       "      <th>Industry</th>\n",
       "      <th>Age</th>\n",
       "      <th>Rating</th>\n",
       "      <th>Reviews</th>\n",
       "      <th>Salary</th>\n",
       "      <th>Location</th>\n",
       "      <th>Highly Rated</th>\n",
       "      <th>Critically Rated</th>\n",
       "    </tr>\n",
       "  </thead>\n",
       "  <tbody>\n",
       "    <tr>\n",
       "      <th>0</th>\n",
       "      <td>TCS</td>\n",
       "      <td>IT Services &amp; Consulting</td>\n",
       "      <td>56.0</td>\n",
       "      <td>3.7</td>\n",
       "      <td>82.9</td>\n",
       "      <td>9L</td>\n",
       "      <td>Mumbai</td>\n",
       "      <td>Job Security</td>\n",
       "      <td>Promotions / Appraisal</td>\n",
       "    </tr>\n",
       "    <tr>\n",
       "      <th>1</th>\n",
       "      <td>Accenture</td>\n",
       "      <td>IT Services &amp; Consulting</td>\n",
       "      <td>35.0</td>\n",
       "      <td>3.9</td>\n",
       "      <td>51.7</td>\n",
       "      <td>6L</td>\n",
       "      <td>Dublin</td>\n",
       "      <td>Company Culture</td>\n",
       "      <td>Promotions / Appraisal</td>\n",
       "    </tr>\n",
       "    <tr>\n",
       "      <th>2</th>\n",
       "      <td>Cognizant</td>\n",
       "      <td>IT Services &amp; Consulting</td>\n",
       "      <td>30.0</td>\n",
       "      <td>3.8</td>\n",
       "      <td>46.5</td>\n",
       "      <td>5.9L</td>\n",
       "      <td>NaN</td>\n",
       "      <td>Promotions / Appraisal</td>\n",
       "      <td>Promotions / Appraisal</td>\n",
       "    </tr>\n",
       "    <tr>\n",
       "      <th>3</th>\n",
       "      <td>Wipro</td>\n",
       "      <td>IT Services &amp; Consulting</td>\n",
       "      <td>79.0</td>\n",
       "      <td>3.7</td>\n",
       "      <td>46.4</td>\n",
       "      <td>4.5L</td>\n",
       "      <td>Bengaluru</td>\n",
       "      <td>Job Security</td>\n",
       "      <td>Promotions / Appraisal</td>\n",
       "    </tr>\n",
       "    <tr>\n",
       "      <th>4</th>\n",
       "      <td>Capgemini</td>\n",
       "      <td>IT Services &amp; Consulting</td>\n",
       "      <td>57.0</td>\n",
       "      <td>3.8</td>\n",
       "      <td>38.3</td>\n",
       "      <td>4.4L</td>\n",
       "      <td>Paris</td>\n",
       "      <td>Job Security</td>\n",
       "      <td>Promotions / Appraisal</td>\n",
       "    </tr>\n",
       "    <tr>\n",
       "      <th>...</th>\n",
       "      <td>...</td>\n",
       "      <td>...</td>\n",
       "      <td>...</td>\n",
       "      <td>...</td>\n",
       "      <td>...</td>\n",
       "      <td>...</td>\n",
       "      <td>...</td>\n",
       "      <td>...</td>\n",
       "      <td>...</td>\n",
       "    </tr>\n",
       "    <tr>\n",
       "      <th>395</th>\n",
       "      <td>Sobha</td>\n",
       "      <td>Real Estate</td>\n",
       "      <td>29.0</td>\n",
       "      <td>3.9</td>\n",
       "      <td>1.7</td>\n",
       "      <td>7.9k</td>\n",
       "      <td>Bengaluru</td>\n",
       "      <td>Job Security</td>\n",
       "      <td>Promotions / Appraisal</td>\n",
       "    </tr>\n",
       "    <tr>\n",
       "      <th>396</th>\n",
       "      <td>Whirlpool</td>\n",
       "      <td>Consumer Electronics &amp; Appliances</td>\n",
       "      <td>113.0</td>\n",
       "      <td>4.1</td>\n",
       "      <td>1.7</td>\n",
       "      <td>7.7k</td>\n",
       "      <td>Michigan</td>\n",
       "      <td>Work Life Balance</td>\n",
       "      <td>Promotions / Appraisal</td>\n",
       "    </tr>\n",
       "    <tr>\n",
       "      <th>397</th>\n",
       "      <td>RMSI</td>\n",
       "      <td>IT Services &amp; Consulting</td>\n",
       "      <td>32.0</td>\n",
       "      <td>3.6</td>\n",
       "      <td>1.7</td>\n",
       "      <td>7.8k</td>\n",
       "      <td>Noida</td>\n",
       "      <td>Promotions / Appraisal</td>\n",
       "      <td>Promotions / Appraisal</td>\n",
       "    </tr>\n",
       "    <tr>\n",
       "      <th>398</th>\n",
       "      <td>IntouchCX</td>\n",
       "      <td>BPO</td>\n",
       "      <td>23.0</td>\n",
       "      <td>3.0</td>\n",
       "      <td>1.7</td>\n",
       "      <td>7.8k</td>\n",
       "      <td>Winnipeg</td>\n",
       "      <td>Promotions / Appraisal</td>\n",
       "      <td>Promotions / Appraisal</td>\n",
       "    </tr>\n",
       "    <tr>\n",
       "      <th>399</th>\n",
       "      <td>Renault Nissan</td>\n",
       "      <td>NaN</td>\n",
       "      <td>17.0</td>\n",
       "      <td>4.2</td>\n",
       "      <td>1.7</td>\n",
       "      <td>7.6k</td>\n",
       "      <td>Chennai</td>\n",
       "      <td>Job Security</td>\n",
       "      <td>Promotions / Appraisal</td>\n",
       "    </tr>\n",
       "  </tbody>\n",
       "</table>\n",
       "<p>400 rows × 9 columns</p>\n",
       "</div>"
      ],
      "text/plain": [
       "            Company                           Industry    Age  Rating  \\\n",
       "0               TCS           IT Services & Consulting   56.0     3.7   \n",
       "1         Accenture           IT Services & Consulting   35.0     3.9   \n",
       "2         Cognizant           IT Services & Consulting   30.0     3.8   \n",
       "3             Wipro           IT Services & Consulting   79.0     3.7   \n",
       "4         Capgemini           IT Services & Consulting   57.0     3.8   \n",
       "..              ...                                ...    ...     ...   \n",
       "395           Sobha                        Real Estate   29.0     3.9   \n",
       "396       Whirlpool  Consumer Electronics & Appliances  113.0     4.1   \n",
       "397            RMSI           IT Services & Consulting   32.0     3.6   \n",
       "398       IntouchCX                                BPO   23.0     3.0   \n",
       "399  Renault Nissan                                NaN   17.0     4.2   \n",
       "\n",
       "     Reviews Salary   Location            Highly Rated        Critically Rated  \n",
       "0       82.9     9L     Mumbai            Job Security  Promotions / Appraisal  \n",
       "1       51.7     6L     Dublin         Company Culture  Promotions / Appraisal  \n",
       "2       46.5   5.9L        NaN  Promotions / Appraisal  Promotions / Appraisal  \n",
       "3       46.4   4.5L  Bengaluru            Job Security  Promotions / Appraisal  \n",
       "4       38.3   4.4L      Paris            Job Security  Promotions / Appraisal  \n",
       "..       ...    ...        ...                     ...                     ...  \n",
       "395      1.7   7.9k  Bengaluru            Job Security  Promotions / Appraisal  \n",
       "396      1.7   7.7k   Michigan       Work Life Balance  Promotions / Appraisal  \n",
       "397      1.7   7.8k      Noida  Promotions / Appraisal  Promotions / Appraisal  \n",
       "398      1.7   7.8k   Winnipeg  Promotions / Appraisal  Promotions / Appraisal  \n",
       "399      1.7   7.6k    Chennai            Job Security  Promotions / Appraisal  \n",
       "\n",
       "[400 rows x 9 columns]"
      ]
     },
     "execution_count": 590,
     "metadata": {},
     "output_type": "execute_result"
    }
   ],
   "source": [
    "data1"
   ]
  },
  {
   "cell_type": "code",
   "execution_count": 591,
   "id": "37f9b40d",
   "metadata": {},
   "outputs": [
    {
     "name": "stdout",
     "output_type": "stream",
     "text": [
      "<class 'pandas.core.frame.DataFrame'>\n",
      "RangeIndex: 400 entries, 0 to 399\n",
      "Data columns (total 9 columns):\n",
      " #   Column            Non-Null Count  Dtype  \n",
      "---  ------            --------------  -----  \n",
      " 0   Company           400 non-null    object \n",
      " 1   Industry          368 non-null    object \n",
      " 2   Age               391 non-null    float64\n",
      " 3   Rating            400 non-null    float64\n",
      " 4   Reviews           400 non-null    float64\n",
      " 5   Salary            399 non-null    object \n",
      " 6   Location          399 non-null    object \n",
      " 7   Highly Rated      397 non-null    object \n",
      " 8   Critically Rated  245 non-null    object \n",
      "dtypes: float64(3), object(6)\n",
      "memory usage: 28.2+ KB\n"
     ]
    }
   ],
   "source": [
    "data1.info()"
   ]
  },
  {
   "cell_type": "code",
   "execution_count": 714,
   "id": "5167064a",
   "metadata": {},
   "outputs": [
    {
     "data": {
      "text/html": [
       "<div>\n",
       "<style scoped>\n",
       "    .dataframe tbody tr th:only-of-type {\n",
       "        vertical-align: middle;\n",
       "    }\n",
       "\n",
       "    .dataframe tbody tr th {\n",
       "        vertical-align: top;\n",
       "    }\n",
       "\n",
       "    .dataframe thead th {\n",
       "        text-align: right;\n",
       "    }\n",
       "</style>\n",
       "<table border=\"1\" class=\"dataframe\">\n",
       "  <thead>\n",
       "    <tr style=\"text-align: right;\">\n",
       "      <th></th>\n",
       "      <th>Company</th>\n",
       "      <th>Industry</th>\n",
       "      <th>Age</th>\n",
       "      <th>Rating</th>\n",
       "      <th>Reviews</th>\n",
       "      <th>Salary</th>\n",
       "      <th>Location</th>\n",
       "      <th>Highly Rated</th>\n",
       "      <th>Critically Rated</th>\n",
       "      <th>Figure</th>\n",
       "      <th>Unit</th>\n",
       "    </tr>\n",
       "  </thead>\n",
       "  <tbody>\n",
       "    <tr>\n",
       "      <th>0</th>\n",
       "      <td>TCS</td>\n",
       "      <td>IT Services &amp; Consulting</td>\n",
       "      <td>56.0</td>\n",
       "      <td>3.7</td>\n",
       "      <td>82.9</td>\n",
       "      <td>9L</td>\n",
       "      <td>Mumbai</td>\n",
       "      <td>Job Security</td>\n",
       "      <td>Promotions / Appraisal</td>\n",
       "      <td>9</td>\n",
       "      <td>L</td>\n",
       "    </tr>\n",
       "    <tr>\n",
       "      <th>1</th>\n",
       "      <td>Accenture</td>\n",
       "      <td>IT Services &amp; Consulting</td>\n",
       "      <td>35.0</td>\n",
       "      <td>3.9</td>\n",
       "      <td>51.7</td>\n",
       "      <td>6L</td>\n",
       "      <td>Dublin</td>\n",
       "      <td>Company Culture</td>\n",
       "      <td>Promotions / Appraisal</td>\n",
       "      <td>6</td>\n",
       "      <td>L</td>\n",
       "    </tr>\n",
       "    <tr>\n",
       "      <th>2</th>\n",
       "      <td>Cognizant</td>\n",
       "      <td>IT Services &amp; Consulting</td>\n",
       "      <td>30.0</td>\n",
       "      <td>3.8</td>\n",
       "      <td>46.5</td>\n",
       "      <td>5.9L</td>\n",
       "      <td>NaN</td>\n",
       "      <td>Promotions / Appraisal</td>\n",
       "      <td>Promotions / Appraisal</td>\n",
       "      <td>5.9</td>\n",
       "      <td>L</td>\n",
       "    </tr>\n",
       "    <tr>\n",
       "      <th>3</th>\n",
       "      <td>Wipro</td>\n",
       "      <td>IT Services &amp; Consulting</td>\n",
       "      <td>79.0</td>\n",
       "      <td>3.7</td>\n",
       "      <td>46.4</td>\n",
       "      <td>4.5L</td>\n",
       "      <td>Bengaluru</td>\n",
       "      <td>Job Security</td>\n",
       "      <td>Promotions / Appraisal</td>\n",
       "      <td>4.5</td>\n",
       "      <td>L</td>\n",
       "    </tr>\n",
       "    <tr>\n",
       "      <th>4</th>\n",
       "      <td>Capgemini</td>\n",
       "      <td>IT Services &amp; Consulting</td>\n",
       "      <td>57.0</td>\n",
       "      <td>3.8</td>\n",
       "      <td>38.3</td>\n",
       "      <td>4.4L</td>\n",
       "      <td>Paris</td>\n",
       "      <td>Job Security</td>\n",
       "      <td>Promotions / Appraisal</td>\n",
       "      <td>4.4</td>\n",
       "      <td>L</td>\n",
       "    </tr>\n",
       "    <tr>\n",
       "      <th>5</th>\n",
       "      <td>HDFC Bank</td>\n",
       "      <td>Banking</td>\n",
       "      <td>30.0</td>\n",
       "      <td>3.9</td>\n",
       "      <td>37.1</td>\n",
       "      <td>1.4L</td>\n",
       "      <td>Mumbai</td>\n",
       "      <td>Job Security</td>\n",
       "      <td>Promotions / Appraisal</td>\n",
       "      <td>1.4</td>\n",
       "      <td>L</td>\n",
       "    </tr>\n",
       "    <tr>\n",
       "      <th>6</th>\n",
       "      <td>ICICI Bank</td>\n",
       "      <td>Banking</td>\n",
       "      <td>30.0</td>\n",
       "      <td>4.0</td>\n",
       "      <td>36.3</td>\n",
       "      <td>1.5L</td>\n",
       "      <td>Mumbai</td>\n",
       "      <td>Job Security</td>\n",
       "      <td>NaN</td>\n",
       "      <td>1.5</td>\n",
       "      <td>L</td>\n",
       "    </tr>\n",
       "    <tr>\n",
       "      <th>7</th>\n",
       "      <td>Infosys</td>\n",
       "      <td>IT Services &amp; Consulting</td>\n",
       "      <td>43.0</td>\n",
       "      <td>3.7</td>\n",
       "      <td>35.8</td>\n",
       "      <td>4.8L</td>\n",
       "      <td>Bangalore</td>\n",
       "      <td>Job Security</td>\n",
       "      <td>Promotions / Appraisal</td>\n",
       "      <td>4.8</td>\n",
       "      <td>L</td>\n",
       "    </tr>\n",
       "    <tr>\n",
       "      <th>8</th>\n",
       "      <td>HCLTech</td>\n",
       "      <td>IT Services &amp; Consulting</td>\n",
       "      <td>33.0</td>\n",
       "      <td>3.6</td>\n",
       "      <td>33.1</td>\n",
       "      <td>3.3L</td>\n",
       "      <td>Noida</td>\n",
       "      <td>Job Security</td>\n",
       "      <td>Promotions / Appraisal</td>\n",
       "      <td>3.3</td>\n",
       "      <td>L</td>\n",
       "    </tr>\n",
       "    <tr>\n",
       "      <th>9</th>\n",
       "      <td>Tech Mahindra</td>\n",
       "      <td>IT Services &amp; Consulting</td>\n",
       "      <td>38.0</td>\n",
       "      <td>3.6</td>\n",
       "      <td>30.4</td>\n",
       "      <td>2.6L</td>\n",
       "      <td>Pune</td>\n",
       "      <td>Promotions / Appraisal</td>\n",
       "      <td>Promotions / Appraisal</td>\n",
       "      <td>2.6</td>\n",
       "      <td>L</td>\n",
       "    </tr>\n",
       "  </tbody>\n",
       "</table>\n",
       "</div>"
      ],
      "text/plain": [
       "         Company                  Industry   Age  Rating  Reviews Salary  \\\n",
       "0            TCS  IT Services & Consulting  56.0     3.7     82.9     9L   \n",
       "1      Accenture  IT Services & Consulting  35.0     3.9     51.7     6L   \n",
       "2      Cognizant  IT Services & Consulting  30.0     3.8     46.5   5.9L   \n",
       "3          Wipro  IT Services & Consulting  79.0     3.7     46.4   4.5L   \n",
       "4      Capgemini  IT Services & Consulting  57.0     3.8     38.3   4.4L   \n",
       "5      HDFC Bank                   Banking  30.0     3.9     37.1   1.4L   \n",
       "6     ICICI Bank                   Banking  30.0     4.0     36.3   1.5L   \n",
       "7        Infosys  IT Services & Consulting  43.0     3.7     35.8   4.8L   \n",
       "8        HCLTech  IT Services & Consulting  33.0     3.6     33.1   3.3L   \n",
       "9  Tech Mahindra  IT Services & Consulting  38.0     3.6     30.4   2.6L   \n",
       "\n",
       "    Location            Highly Rated        Critically Rated Figure Unit  \n",
       "0     Mumbai            Job Security  Promotions / Appraisal      9    L  \n",
       "1     Dublin         Company Culture  Promotions / Appraisal      6    L  \n",
       "2        NaN  Promotions / Appraisal  Promotions / Appraisal    5.9    L  \n",
       "3  Bengaluru            Job Security  Promotions / Appraisal    4.5    L  \n",
       "4      Paris            Job Security  Promotions / Appraisal    4.4    L  \n",
       "5     Mumbai            Job Security  Promotions / Appraisal    1.4    L  \n",
       "6     Mumbai            Job Security                     NaN    1.5    L  \n",
       "7  Bangalore            Job Security  Promotions / Appraisal    4.8    L  \n",
       "8      Noida            Job Security  Promotions / Appraisal    3.3    L  \n",
       "9       Pune  Promotions / Appraisal  Promotions / Appraisal    2.6    L  "
      ]
     },
     "execution_count": 714,
     "metadata": {},
     "output_type": "execute_result"
    }
   ],
   "source": [
    "#spliting the salary column into figure and the alphabet\n",
    "\n",
    "data[['Figure', 'Unit']] = data['Salary'].str.extract(r'(\\d+(?:\\.\\d+)?)([a-zA-Z]+)', expand=True)\n",
    "\n",
    "data.head(10)\n"
   ]
  },
  {
   "cell_type": "code",
   "execution_count": 658,
   "id": "6816359d",
   "metadata": {},
   "outputs": [
    {
     "name": "stdout",
     "output_type": "stream",
     "text": [
      "<class 'pandas.core.frame.DataFrame'>\n",
      "RangeIndex: 400 entries, 0 to 399\n",
      "Data columns (total 11 columns):\n",
      " #   Column            Non-Null Count  Dtype  \n",
      "---  ------            --------------  -----  \n",
      " 0   Company           400 non-null    object \n",
      " 1   Industry          368 non-null    object \n",
      " 2   Age               400 non-null    float64\n",
      " 3   Rating            400 non-null    float64\n",
      " 4   Reviews           400 non-null    float64\n",
      " 5   Salary            399 non-null    object \n",
      " 6   Location          399 non-null    object \n",
      " 7   Highly Rated      397 non-null    object \n",
      " 8   Critically Rated  245 non-null    object \n",
      " 9   Figure            400 non-null    float64\n",
      " 10  Unit              399 non-null    object \n",
      "dtypes: float64(4), object(7)\n",
      "memory usage: 34.5+ KB\n"
     ]
    }
   ],
   "source": [
    "data.info()"
   ]
  },
  {
   "cell_type": "code",
   "execution_count": 598,
   "id": "4bacb8da",
   "metadata": {},
   "outputs": [],
   "source": [
    "#changing the data types of Figure, Age, Rating and Reviews column\n",
    "\n",
    "data[['Figure', 'Age', 'Rating', 'Reviews']] = data[['Figure', 'Age', 'Rating', 'Reviews']].fillna(0)\n",
    "\n",
    "\n",
    "data[['Figure', 'Age', 'Rating', 'Reviews']] = data[['Figure', 'Age', 'Rating', 'Reviews']].astype(float)\n"
   ]
  },
  {
   "cell_type": "code",
   "execution_count": 599,
   "id": "22b8cb1c",
   "metadata": {},
   "outputs": [
    {
     "name": "stdout",
     "output_type": "stream",
     "text": [
      "<class 'pandas.core.frame.DataFrame'>\n",
      "RangeIndex: 400 entries, 0 to 399\n",
      "Data columns (total 11 columns):\n",
      " #   Column            Non-Null Count  Dtype  \n",
      "---  ------            --------------  -----  \n",
      " 0   Company           400 non-null    object \n",
      " 1   Industry          368 non-null    object \n",
      " 2   Age               400 non-null    float64\n",
      " 3   Rating            400 non-null    float64\n",
      " 4   Reviews           400 non-null    float64\n",
      " 5   Salary            399 non-null    object \n",
      " 6   Location          399 non-null    object \n",
      " 7   Highly Rated      397 non-null    object \n",
      " 8   Critically Rated  245 non-null    object \n",
      " 9   Figure            400 non-null    float64\n",
      " 10  Unit              399 non-null    object \n",
      "dtypes: float64(4), object(7)\n",
      "memory usage: 34.5+ KB\n"
     ]
    }
   ],
   "source": [
    "data.info()"
   ]
  },
  {
   "cell_type": "code",
   "execution_count": 713,
   "id": "466db624",
   "metadata": {},
   "outputs": [
    {
     "data": {
      "image/png": "[encoded data removed]",
      "text/plain": [
       "<Figure size 720x432 with 1 Axes>"
      ]
     },
     "metadata": {
      "needs_background": "light"
     },
     "output_type": "display_data"
    }
   ],
   "source": [
    "## Creating a box plot to visualize the distribution of the 'Age' column\n",
    "\n",
    "plt.figure(figsize=(10, 6))\n",
    "sns.boxplot(x=data['Age'], color='orange')\n",
    "plt.title('Boxplot of Ages', fontsize=16)\n",
    "plt.xlabel('Ages', fontsize=14)\n",
    "plt.show()\n"
   ]
  },
  {
   "cell_type": "markdown",
   "id": "d41e3af4",
   "metadata": {},
   "source": [
    "From the boxplot above, I can conclude that most of the ages fall between 15 to 60. Ages from 110 above can be counted as outliers"
   ]
  },
  {
   "cell_type": "code",
   "execution_count": 609,
   "id": "a5dbf2bb",
   "metadata": {},
   "outputs": [
    {
     "data": {
      "image/png": "[encoded data removed]",
      "text/plain": [
       "<Figure size 720x432 with 1 Axes>"
      ]
     },
     "metadata": {
      "needs_background": "light"
     },
     "output_type": "display_data"
    }
   ],
   "source": [
    "## Calculate the frequency of each company's Location\n",
    "\n",
    "location_frequency = data['Location'].value_counts()\n",
    "\n",
    "plt.figure(figsize=(10, 6))\n",
    "top_locations = location_frequency.head(10)\n",
    "sns.barplot(x=top_locations.values, y=top_locations.index, palette=\"viridis\")\n",
    "plt.title('Top 10 LOCATION OF THE COMPANY')\n",
    "plt.xlabel('Count')\n",
    "plt.ylabel('Location')\n",
    "plt.show()\n"
   ]
  },
  {
   "cell_type": "markdown",
   "id": "93c11210",
   "metadata": {},
   "source": [
    "Mumbai has most compnay in the dataset, almost twice of others. Followed by Bengaluru and Gurugram"
   ]
  },
  {
   "cell_type": "code",
   "execution_count": 655,
   "id": "3ac03aac",
   "metadata": {},
   "outputs": [
    {
     "data": {
      "image/png": "[encoded data removed]",
      "text/plain": [
       "<Figure size 432x432 with 1 Axes>"
      ]
     },
     "metadata": {},
     "output_type": "display_data"
    }
   ],
   "source": [
    "## Visualize the top 4 most common industry\n",
    "\n",
    "plt.figure(figsize=(6, 6))\n",
    "\n",
    "top_4_industries = data['Industry'].value_counts().head(4)\n",
    "\n",
    "plt.pie(top_4_industries, \n",
    "        labels=top_4_industries.index, \n",
    "        autopct='%1.1f%%', \n",
    "        startangle=90, \n",
    "        colors=sns.color_palette('pastel', len(top_4_industries)))\n",
    "\n",
    "plt.title('TOP 4 INDUSTRRIES', fontsize=16)\n",
    "\n",
    "plt.show()\n"
   ]
  },
  {
   "cell_type": "markdown",
   "id": "797d7ecd",
   "metadata": {},
   "source": [
    "These are the top 4 Industry category for the companies. From the datasets, almost half of the companies are into \"IT Services & Consulting\" . Pharma, Internet and Banking has almost the same percentage."
   ]
  },
  {
   "cell_type": "code",
   "execution_count": 616,
   "id": "e175b26b",
   "metadata": {},
   "outputs": [
    {
     "name": "stdout",
     "output_type": "stream",
     "text": [
      "Mean Age: 46.82\n",
      "Median Age: 30.0\n",
      "Mode Age: 17.0\n",
      "Standard Deviation of Age: 45.05705211020974\n",
      "Variance of Age: 2030.137944862156\n",
      "Range of Age: 334.0\n",
      "IQR of Age: 38.25\n"
     ]
    }
   ],
   "source": [
    "mean_age = data['Age'].mean()\n",
    "median_age = data['Age'].median()\n",
    "mode_age = data['Age'].mode()[0]\n",
    "\n",
    "# Measures of dispersion\n",
    "std_age = data['Age'].std()\n",
    "\n",
    "\n",
    "# Print the results\n",
    "print(f\"Mean Age: {mean_age}\")\n",
    "print(f\"Median Age: {median_age}\")\n",
    "print(f\"Mode Age: {mode_age}\")"
   ]
  },
  {
   "cell_type": "code",
   "execution_count": 633,
   "id": "5c2cd8f4",
   "metadata": {},
   "outputs": [
    {
     "data": {
      "text/plain": [
       "Job Security                    154\n",
       "Promotions / Appraisal           77\n",
       "Skill Development / Learning     55\n",
       "Company Culture                  39\n",
       "Work Life Balance                37\n",
       "Salary & Benefits                35\n",
       "Name: Highly Rated, dtype: int64"
      ]
     },
     "execution_count": 633,
     "metadata": {},
     "output_type": "execute_result"
    }
   ],
   "source": [
    "data['Highly Rated'].value_counts()"
   ]
  },
  {
   "cell_type": "code",
   "execution_count": 663,
   "id": "92a5e75c",
   "metadata": {},
   "outputs": [
    {
     "data": {
      "image/png": "[encoded data removed]",
      "text/plain": [
       "<Figure size 720x432 with 1 Axes>"
      ]
     },
     "metadata": {
      "needs_background": "light"
     },
     "output_type": "display_data"
    },
    {
     "name": "stdout",
     "output_type": "stream",
     "text": [
      "Correlation coefficient between Age and Rating: 0.19\n"
     ]
    }
   ],
   "source": [
    "# Scatter plot with regression line for Age and Rating\n",
    "\n",
    "plt.figure(figsize=(10, 6))\n",
    "\n",
    "sns.regplot(x='Rating', y='Age', data=data, scatter_kws={'color': 'blue'}, line_kws={'color': 'red'})\n",
    "\n",
    "plt.title('Correlation between Age and Rating', fontsize=16)\n",
    "\n",
    "plt.xlabel('Rating', fontsize=14)\n",
    "\n",
    "plt.ylabel('Age', fontsize=14)\n",
    "\n",
    "plt.show()\n",
    "\n",
    "# Calculate the correlation coefficient\n",
    "correlation_coefficient = data[['Age', 'Rating']].corr().iloc[0, 1]\n",
    "\n",
    "print(f\"Correlation coefficient between Age and Rating: {correlation_coefficient:.2f}\")\n"
   ]
  },
  {
   "cell_type": "markdown",
   "id": "a385a729",
   "metadata": {},
   "source": [
    "There is a positive correlation between Age and Rating although it is weak. While Rating might increase slightly with Age, other factors were likely considered in determining the Rating"
   ]
  },
  {
   "cell_type": "code",
   "execution_count": 689,
   "id": "6a3b1efc",
   "metadata": {},
   "outputs": [
    {
     "data": {
      "image/png": "[encoded data removed]",
      "text/plain": [
       "<Figure size 864x432 with 1 Axes>"
      ]
     },
     "metadata": {
      "needs_background": "light"
     },
     "output_type": "display_data"
    }
   ],
   "source": [
    "# Group by 'Industry' and calculate the mean of the 'Figure' column\n",
    "grouped_data = data.groupby('Industry')['Figure'].mean().sort_values(ascending=False)\n",
    "\n",
    "# Get the top 10 industries\n",
    "top_10_industries = grouped_data.head(10)\n",
    "\n",
    "plt.figure(figsize=(12, 6))\n",
    "\n",
    "sns.barplot(x=top_10_industries.index, y=top_10_industries.values, palette='viridis')\n",
    "\n",
    "# Adding title and labels\n",
    "plt.title('Top 10 Average Salary by Industry', fontsize=16)\n",
    "plt.xlabel('Industry', fontsize=14)\n",
    "plt.ylabel('Average Figure', fontsize=14)\n",
    "plt.xticks(rotation=90) \n",
    "plt.show()\n"
   ]
  },
  {
   "cell_type": "markdown",
   "id": "31fb6c0a",
   "metadata": {},
   "source": [
    "The bar plot illustrates the variations between industries with their average Salaries, decreasing as we move from the top industry(Emerging Technologies) to the tenth(Software Product ). This visualization is helpful for identifying which industries have the highest Salary and gaining insight into the distribution of figures across"
   ]
  },
  {
   "cell_type": "code",
   "execution_count": 712,
   "id": "f4799eba",
   "metadata": {},
   "outputs": [
    {
     "data": {
      "image/png": "[encoded data removed]",
      "text/plain": [
       "<Figure size 864x576 with 1 Axes>"
      ]
     },
     "metadata": {
      "needs_background": "light"
     },
     "output_type": "display_data"
    }
   ],
   "source": [
    "# Create a heatmap for Industry and Criticaly rated columns\n",
    "\n",
    "top_10_industries = data['Industry'].value_counts().head(10).index\n",
    "filtered_data = data[data['Industry'].isin(top_10_industries)]\n",
    "contingency_table = pd.crosstab(filtered_data['Industry'], filtered_data['Critically Rated'])\n",
    "\n",
    "# Step 3: Visualize the contingency table as a heatmap\n",
    "plt.figure(figsize=(12, 8))\n",
    "sns.heatmap(contingency_table, annot=True, fmt=\"d\", cmap=\"YlGnBu\", cbar=False)\n",
    "plt.title('Industry vs Critically Rated', fontsize=16)\n",
    "plt.xlabel('Critically Rated', fontsize=14)\n",
    "plt.ylabel('Industry', fontsize=14)\n",
    "plt.show()\n"
   ]
  },
  {
   "cell_type": "markdown",
   "id": "2f6ca6a5",
   "metadata": {},
   "source": [
    "Generally, promotion/Appraisal is critically rated for most company compared to other comapany issues. From the heat map the Industry(IT Services & Consulting) is the most critically rated for promotion/Appraisal "
   ]
  },
  {
   "cell_type": "markdown",
   "id": "ae3a060e",
   "metadata": {},
   "source": [
    "## CONCLUSION"
   ]
  },
  {
   "cell_type": "markdown",
   "id": "fae6c18a",
   "metadata": {},
   "source": [
    "This dataset offers valuable insights into the business landscape in terms of company distribution by location and industry, as well as age and salary trends. While there is a weak correlation between Age and Rating, other factors are likely influencing the ratings. The industry distribution suggests that IT Services & Consulting dominates the dataset,but they also top the chart as the critically rated company for Promotion/Appraisal and companies in Emerging Technologies tend to offer higher salaries compared to other industries."
   ]
  },
  {
   "cell_type": "code",
   "execution_count": 710,
   "id": "b6839a45",
   "metadata": {},
   "outputs": [],
   "source": []
  },
  {
   "cell_type": "code",
   "execution_count": null,
   "id": "4d8b75c6",
   "metadata": {},
   "outputs": [],
   "source": []
  },
  {
   "cell_type": "code",
   "execution_count": null,
   "id": "19f5825a",
   "metadata": {},
   "outputs": [],
   "source": []
  }
 ],
 "metadata": {
  "kernelspec": {
   "display_name": "Python 3 (ipykernel)",
   "language": "python",
   "name": "python3"
  },
  "language_info": {
   "codemirror_mode": {
    "name": "ipython",
    "version": 3
   },
   "file_extension": ".py",
   "mimetype": "text/x-python",
   "name": "python",
   "nbconvert_exporter": "python",
   "pygments_lexer": "ipython3",
   "version": "3.9.7"
  }
 },
 "nbformat": 4,
 "nbformat_minor": 5
}
